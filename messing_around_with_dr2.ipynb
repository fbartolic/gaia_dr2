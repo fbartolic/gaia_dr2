{
 "cells": [
  {
   "cell_type": "code",
   "execution_count": 12,
   "metadata": {},
   "outputs": [],
   "source": [
    "import numpy as np\n",
    "from matplotlib import pyplot as plt\n",
    "import matplotlib as mpl\n",
    "import VBBinaryLensing\n",
    "\n",
    "mpl.rc('font',**{'family':'serif','serif':['Palatino']})\n",
    "mpl.rc('text', usetex=True)\n",
    "mpl.rcParams['axes.labelsize'] = 20\n",
    "mpl.rcParams['xtick.labelsize'] = 20\n",
    "mpl.rcParams['ytick.labelsize'] = 20\n",
    "mpl.rcParams['axes.titlesize'] = 20\n",
    "\n",
    "%matplotlib inline\n",
    "\n",
    "# Better looking figures\n",
    "%config InlineBackend.figure_format = 'retina'"
   ]
  },
  {
   "cell_type": "code",
   "execution_count": 30,
   "metadata": {},
   "outputs": [],
   "source": [
    "from astroquery.vizier import Vizier\n",
    "from astropy.coordinates import Angle\n",
    "import astropy.units as u\n",
    "from astropy.table import Table\n",
    "from pyia import GaiaData\n",
    "\n",
    "result = Vizier.query_object(\"NGC5897\", catalog=[\"I/345/gaia2\"], radius=Angle(15, \"arcsec\"))[\"I/345/gaia2\"]"
   ]
  },
  {
   "cell_type": "code",
   "execution_count": 42,
   "metadata": {},
   "outputs": [
    {
     "data": {
      "text/plain": [
       "0     20.3885\n",
       "1     19.9346\n",
       "2     20.6000\n",
       "3     20.2683\n",
       "4     20.3353\n",
       "5     19.8235\n",
       "6     19.9068\n",
       "7     17.8271\n",
       "8     20.0562\n",
       "9     20.3096\n",
       "10    20.4205\n",
       "11    18.8979\n",
       "12    20.0057\n",
       "13    19.7017\n",
       "14    19.5031\n",
       "15    19.3752\n",
       "16    19.8390\n",
       "17    19.6861\n",
       "18    20.4929\n",
       "19    20.1019\n",
       "20    19.3483\n",
       "21    20.2821\n",
       "22    19.2999\n",
       "23    19.5488\n",
       "24    19.9377\n",
       "25    18.8313\n",
       "26    19.5032\n",
       "27    16.5922\n",
       "28    19.3072\n",
       "29    16.7097\n",
       "30    16.8060\n",
       "31    19.7250\n",
       "32    19.6182\n",
       "33    19.4156\n",
       "34    20.0227\n",
       "35    20.0575\n",
       "36    19.4762\n",
       "37    19.8829\n",
       "38    19.8981\n",
       "39    20.4562\n",
       "40    20.4136\n",
       "41    19.8108\n",
       "42    20.0514\n",
       "43    19.3392\n",
       "44    20.3605\n",
       "45    19.8430\n",
       "46    20.0932\n",
       "47    18.8506\n",
       "48    20.1711\n",
       "49    19.4811\n",
       "Name: Gmag, dtype: float64"
      ]
     },
     "execution_count": 42,
     "metadata": {},
     "output_type": "execute_result"
    }
   ],
   "source": [
    "g = GaiaData(result)\n",
    "g.data.columns\n",
    "g.data['BP-RP']\n",
    "g.data['Gmag']"
   ]
  },
  {
   "cell_type": "code",
   "execution_count": null,
   "metadata": {},
   "outputs": [],
   "source": []
  }
 ],
 "metadata": {
  "kernelspec": {
   "display_name": "Python 3.6",
   "language": "python",
   "name": "python3"
  },
  "language_info": {
   "codemirror_mode": {
    "name": "ipython",
    "version": 3
   },
   "file_extension": ".py",
   "mimetype": "text/x-python",
   "name": "python",
   "nbconvert_exporter": "python",
   "pygments_lexer": "ipython3",
   "version": "3.6.4"
  }
 },
 "nbformat": 4,
 "nbformat_minor": 2
}
